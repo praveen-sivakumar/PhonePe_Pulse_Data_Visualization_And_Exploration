{
 "cells": [
  {
   "cell_type": "code",
   "execution_count": 19,
   "metadata": {},
   "outputs": [],
   "source": [
    "#Importing required libraries\n",
    "\n",
    "import os\n",
    "import json\n",
    "import pandas as pd\n",
    "import mysql.connector\n",
    "from git.repo.base import Repo"
   ]
  },
  {
   "cell_type": "code",
   "execution_count": 20,
   "metadata": {},
   "outputs": [
    {
     "data": {
      "text/plain": [
       "<git.repo.base.Repo 'D:\\\\Praveen\\\\Projects\\\\PhonePe Pulse\\\\PhonePe_Pulse_Data\\\\.git'>"
      ]
     },
     "execution_count": 20,
     "metadata": {},
     "output_type": "execute_result"
    }
   ],
   "source": [
    "#Cloning the data from the GitHub\n",
    "Repo.clone_from(\"https://github.com/PhonePe/pulse.git\",\"D:\\Praveen\\Projects\\PhonePe Pulse\\PhonePe_Pulse_Data\")"
   ]
  },
  {
   "cell_type": "code",
   "execution_count": 21,
   "metadata": {},
   "outputs": [],
   "source": [
    "#Aggregated Transaction DataFrame\n",
    "\n",
    "def aggregatedTransactionDataFrame():\n",
    "\n",
    "    aggregated_transaction = {\"State\" : [], \"Year\" : [], \"Quarter\" : [], \"Payment_Type\" : [], \"Count\" : [], \"Amount\" : []}\n",
    "\n",
    "    aggregated_transaction_path = \"D:/Praveen/Projects/PhonePe Pulse/Phonepe_Pulse_Data/data/aggregated/transaction/country/india/state/\"\n",
    "    state_list = os.listdir(aggregated_transaction_path)\n",
    "\n",
    "    for state in state_list:\n",
    "        current_state_path = aggregated_transaction_path + state + \"/\"\n",
    "        year_list = os.listdir(current_state_path)\n",
    "\n",
    "\n",
    "        for year in year_list:\n",
    "            current_year_path = current_state_path + year + \"/\"\n",
    "            quarter_list = os.listdir(current_year_path)\n",
    "\n",
    "            for quarter in quarter_list:\n",
    "                current_quarter_path = current_year_path + quarter\n",
    "                data_JSON = json.load(open(current_quarter_path,'r'))\n",
    "\n",
    "                for data in data_JSON[\"data\"][\"transactionData\"]:\n",
    "                    aggregated_transaction[\"State\"].append(state)\n",
    "                    aggregated_transaction[\"Year\"].append(year)\n",
    "                    aggregated_transaction[\"Quarter\"].append(int(quarter.strip(\".json\")))\n",
    "                    \n",
    "                    aggregated_transaction[\"Payment_Type\"].append(data[\"name\"])\n",
    "                    aggregated_transaction[\"Count\"].append(data[\"paymentInstruments\"][0][\"count\"])\n",
    "                    aggregated_transaction[\"Amount\"].append(data[\"paymentInstruments\"][0][\"amount\"])\n",
    "\n",
    "    return pd.DataFrame(aggregated_transaction)\n"
   ]
  },
  {
   "cell_type": "code",
   "execution_count": 22,
   "metadata": {},
   "outputs": [],
   "source": [
    "#Aggregated User DataFrame\n",
    "\n",
    "def aggregatedUserDataFrame():\n",
    "\n",
    "    aggregated_user = {\"State\" : [], \"Year\" : [], \"Quarter\" : [], \"Brand\" : [], \"Count\" : [], \"Percentage\" : []}\n",
    "    aggregated_user_path = \"D:/Praveen/Projects/PhonePe Pulse/Phonepe_Pulse_Data/data/aggregated/user/country/india/state/\"\n",
    "    state_list = os.listdir(aggregated_user_path)\n",
    "\n",
    "    for state in state_list:\n",
    "        current_state_path = aggregated_user_path + state + \"/\"\n",
    "        year_list = os.listdir(current_state_path)\n",
    "\n",
    "\n",
    "        for year in year_list:\n",
    "            current_year_path = current_state_path + year + \"/\"\n",
    "            quarter_list = os.listdir(current_year_path)\n",
    "\n",
    "            for quarter in quarter_list:\n",
    "                current_quarter_path = current_year_path + quarter\n",
    "                user_data_JSON = json.load(open(current_quarter_path,'r'))\n",
    "\n",
    "                try:\n",
    "                    for data in user_data_JSON[\"data\"][\"usersByDevice\"]:\n",
    "                        aggregated_user[\"State\"].append(state)\n",
    "                        aggregated_user[\"Year\"].append(year)\n",
    "                        aggregated_user[\"Quarter\"].append(int(quarter.strip(\".json\")))\n",
    "\n",
    "                        aggregated_user[\"Brand\"].append(data[\"brand\"])\n",
    "                        aggregated_user[\"Count\"].append(data[\"count\"])\n",
    "                        aggregated_user[\"Percentage\"].append(data[\"percentage\"])\n",
    "                \n",
    "                except:\n",
    "                    pass\n",
    "\n",
    "    return pd.DataFrame(aggregated_user)\n"
   ]
  },
  {
   "cell_type": "code",
   "execution_count": 23,
   "metadata": {},
   "outputs": [],
   "source": [
    "#Map Transaction DataFrame\n",
    "\n",
    "def MapTransactionDataFrame():\n",
    "\n",
    "    map_transaction = {\"State\" : [], \"Year\" : [], \"Quarter\" : [], \"District\" : [], \"Count\" : [], \"Amount\" : []}\n",
    "\n",
    "    map_transaction_path = \"D:/Praveen/Projects/PhonePe Pulse/Phonepe_Pulse_Data/data/map/transaction/hover/country/india/state/\"\n",
    "    state_list = os.listdir(map_transaction_path)\n",
    "\n",
    "    for state in state_list:\n",
    "        current_state_path = map_transaction_path + state + \"/\"\n",
    "        year_list = os.listdir(current_state_path)\n",
    "\n",
    "\n",
    "        for year in year_list:\n",
    "            current_year_path = current_state_path + year + \"/\"\n",
    "            quarter_list = os.listdir(current_year_path)\n",
    "\n",
    "            for quarter in quarter_list:\n",
    "                current_quarter_path = current_year_path + quarter\n",
    "                data_JSON = json.load(open(current_quarter_path,'r'))\n",
    "\n",
    "                for data in data_JSON[\"data\"][\"hoverDataList\"]:\n",
    "                    map_transaction[\"State\"].append(state)\n",
    "                    map_transaction[\"Year\"].append(year)\n",
    "                    map_transaction[\"Quarter\"].append(int(quarter.strip(\".json\")))\n",
    "                    \n",
    "                    map_transaction[\"District\"].append(data[\"name\"])\n",
    "                    map_transaction[\"Count\"].append(data[\"metric\"][0][\"count\"])\n",
    "                    map_transaction[\"Amount\"].append(data[\"metric\"][0][\"amount\"])\n",
    "    return pd.DataFrame(map_transaction)\n"
   ]
  },
  {
   "cell_type": "code",
   "execution_count": 24,
   "metadata": {},
   "outputs": [],
   "source": [
    "#Map User DataFrame\n",
    "\n",
    "def MapUserDataFrame():\n",
    "\n",
    "    map_user = {\"State\" : [], \"Year\" : [], \"Quarter\" : [], \"District\" : [], \"RegisteredUser\" : [], \"AppOpens\" : []}\n",
    "\n",
    "    map_user_path = \"D:/Praveen/Projects/PhonePe Pulse/Phonepe_Pulse_Data/data/map/user/hover/country/india/state/\"\n",
    "    state_list = os.listdir(map_user_path)\n",
    "\n",
    "    for state in state_list:\n",
    "        current_state_path = map_user_path + state + \"/\"\n",
    "        year_list = os.listdir(current_state_path)\n",
    "\n",
    "\n",
    "        for year in year_list:\n",
    "            current_year_path = current_state_path + year + \"/\"\n",
    "            quarter_list = os.listdir(current_year_path)\n",
    "\n",
    "            for quarter in quarter_list:\n",
    "                current_quarter_path = current_year_path + quarter\n",
    "                data_JSON = json.load(open(current_quarter_path,'r'))\n",
    "\n",
    "                for data in data_JSON[\"data\"][\"hoverData\"]:\n",
    "                    map_user[\"State\"].append(state)\n",
    "                    map_user[\"Year\"].append(year)\n",
    "                    map_user[\"Quarter\"].append(int(quarter.strip(\".json\")))\n",
    "                    \n",
    "                    map_user[\"District\"].append(data)\n",
    "                    map_user[\"RegisteredUser\"].append(data_JSON[\"data\"][\"hoverData\"][data][\"registeredUsers\"])\n",
    "                    map_user[\"AppOpens\"].append(data_JSON[\"data\"][\"hoverData\"][data][\"appOpens\"])\n",
    "\n",
    "    return pd.DataFrame(map_user)\n"
   ]
  },
  {
   "cell_type": "code",
   "execution_count": 25,
   "metadata": {},
   "outputs": [],
   "source": [
    "#Top Transaction DataFrame\n",
    "\n",
    "def TopTransactionDataFrame():\n",
    "\n",
    "    top_transaction = {\"State\" : [], \"Year\" : [], \"Quarter\" : [], \"Pincode\" : [], \"Count\" : [], \"Amount\" : []}\n",
    "\n",
    "    top_transaction_path = \"D:/Praveen/Projects/PhonePe Pulse/Phonepe_Pulse_Data/data/top/transaction/country/india/state/\"\n",
    "    state_list = os.listdir(top_transaction_path)\n",
    "\n",
    "    for state in state_list:\n",
    "        current_state_path = top_transaction_path + state + \"/\"\n",
    "        year_list = os.listdir(current_state_path)\n",
    "\n",
    "\n",
    "        for year in year_list:\n",
    "            current_year_path = current_state_path + year + \"/\"\n",
    "            quarter_list = os.listdir(current_year_path)\n",
    "\n",
    "            for quarter in quarter_list:\n",
    "                current_quarter_path = current_year_path + quarter\n",
    "                data_JSON = json.load(open(current_quarter_path,'r'))\n",
    "\n",
    "                for data in data_JSON[\"data\"][\"pincodes\"]:\n",
    "                    top_transaction[\"State\"].append(state)\n",
    "                    top_transaction[\"Year\"].append(year)\n",
    "                    top_transaction[\"Quarter\"].append(int(quarter.strip(\".json\")))\n",
    "                    \n",
    "                    top_transaction[\"Pincode\"].append(data[\"entityName\"])\n",
    "                    top_transaction[\"Count\"].append(data[\"metric\"][\"count\"])\n",
    "                    top_transaction[\"Amount\"].append(data[\"metric\"][\"amount\"])\n",
    "\n",
    "    return pd.DataFrame(top_transaction)\n"
   ]
  },
  {
   "cell_type": "code",
   "execution_count": 26,
   "metadata": {},
   "outputs": [],
   "source": [
    "#Top User DataFrame\n",
    "\n",
    "def TopUserDataFrame():\n",
    "\n",
    "    top_user = {\"State\" : [], \"Year\" : [], \"Quarter\" : [], \"Pincode\" : [], \"RegisteredUser\" : []}\n",
    "\n",
    "    top_user_path = \"D:/Praveen/Projects/PhonePe Pulse/Phonepe_Pulse_Data/data/top/user/country/india/state/\"\n",
    "    state_list = os.listdir(top_user_path)\n",
    "\n",
    "    for state in state_list:\n",
    "        current_state_path = top_user_path + state + \"/\"\n",
    "        year_list = os.listdir(current_state_path)\n",
    "\n",
    "\n",
    "        for year in year_list:\n",
    "            current_year_path = current_state_path + year + \"/\"\n",
    "            quarter_list = os.listdir(current_year_path)\n",
    "\n",
    "            for quarter in quarter_list:\n",
    "                current_quarter_path = current_year_path + quarter\n",
    "                data_JSON = json.load(open(current_quarter_path,'r'))\n",
    "\n",
    "                for data in data_JSON[\"data\"][\"pincodes\"]:\n",
    "                    top_user[\"State\"].append(state)\n",
    "                    top_user[\"Year\"].append(year)\n",
    "                    top_user[\"Quarter\"].append(int(quarter.strip(\".json\")))\n",
    "                    top_user[\"Pincode\"].append(data[\"name\"])\n",
    "                    top_user[\"RegisteredUser\"].append(data[\"registeredUsers\"])\n",
    "\n",
    "    return pd.DataFrame(top_user)\n",
    "    "
   ]
  },
  {
   "cell_type": "code",
   "execution_count": 27,
   "metadata": {},
   "outputs": [],
   "source": [
    "#DataFrame to CSV files\n",
    "\n",
    "df_aggregated_transaction = aggregatedTransactionDataFrame()\n",
    "df_aggregated_transaction.to_csv('aggregatedTransaction.csv',index = False)\n",
    "\n",
    "df_aggregated_user = aggregatedUserDataFrame()\n",
    "df_aggregated_user.to_csv('aggregatedUser.csv',index = False)\n",
    "\n",
    "df_map_transaction = MapTransactionDataFrame()\n",
    "df_map_transaction.to_csv('MapTransaction.csv',index = False)\n",
    "\n",
    "df_map_user = MapUserDataFrame()\n",
    "df_map_user.to_csv('mapUser.csv',index = False)\n",
    "\n",
    "df_top_transaction = TopTransactionDataFrame()\n",
    "df_top_transaction.to_csv('topTransaction.csv',index = False)\n",
    "\n",
    "df_top_user = TopUserDataFrame()\n",
    "df_top_user.to_csv('topUser.csv',index = False)"
   ]
  },
  {
   "cell_type": "code",
   "execution_count": 28,
   "metadata": {},
   "outputs": [],
   "source": [
    "mydb = mysql.connector.connect(\n",
    "  host=\"localhost\",\n",
    "  user=\"root\",\n",
    "  password=\"root\",\n",
    ")\n",
    "mycursor = mydb.cursor(buffered=True)"
   ]
  },
  {
   "cell_type": "code",
   "execution_count": null,
   "metadata": {},
   "outputs": [],
   "source": [
    "#Creating DataBase\n",
    "\n",
    "mycursor.execute(\"create database PhonePe_Pulse\")"
   ]
  },
  {
   "cell_type": "code",
   "execution_count": null,
   "metadata": {},
   "outputs": [],
   "source": [
    "#Using the database\n",
    "\n",
    "mycursor.execute(\"use PhonePe_Pulse\")"
   ]
  },
  {
   "cell_type": "code",
   "execution_count": null,
   "metadata": {},
   "outputs": [],
   "source": [
    "#Creating Tables in DB\n",
    "\n",
    "mycursor.execute(\"create table aggregatedTransaction (State varchar(50), Year int, Quarter int, Payment_Type varchar(50), Count int, Amount double)\")\n",
    "\n",
    "mycursor.execute(\"create table aggregatedUser (State varchar(50), Year int, Quarter int, Brand varchar(50), Count int, Percentage double)\")\n",
    "\n",
    "mycursor.execute(\"create table MapTransaction (State varchar(50), Year int, Quarter int, District varchar(50), Count int, Amount double)\")\n",
    "\n",
    "mycursor.execute(\"create table MapUser (State varchar(50), Year int, Quarter int, District varchar(50), RegisteredUser int, AppOpens int)\")\n",
    "\n",
    "mycursor.execute(\"create table TopTransaction (State varchar(50), Year int, Quarter int, Pincode int, Count int, Amount double)\")\n",
    "\n",
    "mycursor.execute(\"create table TopUser (State varchar(50), Year int, Quarter int, Pincode int, RegisteredUser int)\")\n"
   ]
  },
  {
   "cell_type": "code",
   "execution_count": null,
   "metadata": {},
   "outputs": [
    {
     "name": "stdout",
     "output_type": "stream",
     "text": [
      "('aggregatedtransaction',)\n",
      "('aggregateduser',)\n",
      "('maptransaction',)\n",
      "('mapuser',)\n",
      "('toptransaction',)\n",
      "('topuser',)\n"
     ]
    }
   ],
   "source": [
    "mycursor.execute(\"show tables\")\n",
    "# mycursor.fetchall()\n",
    "for x in mycursor:\n",
    "    print(x)"
   ]
  },
  {
   "cell_type": "code",
   "execution_count": null,
   "metadata": {},
   "outputs": [],
   "source": [
    "#Inserting into aggregatedTransaction table\n",
    "\n",
    "for i,row in df_aggregated_transaction.iterrows(): \n",
    "    sql = \"INSERT INTO aggregatedtransaction VALUES (%s,%s,%s,%s,%s,%s)\"\n",
    "    mycursor.execute(sql, tuple(row))\n",
    "    mydb.commit()"
   ]
  },
  {
   "cell_type": "code",
   "execution_count": null,
   "metadata": {},
   "outputs": [],
   "source": [
    "#Inserting into aggregatedUser table\n",
    "\n",
    "for i,row in df_aggregated_user.iterrows():\n",
    "    sql = \"INSERT INTO aggregateduser VALUES (%s,%s,%s,%s,%s,%s)\"\n",
    "    mycursor.execute(sql, tuple(row))\n",
    "    mydb.commit()"
   ]
  },
  {
   "cell_type": "code",
   "execution_count": null,
   "metadata": {},
   "outputs": [],
   "source": [
    "#Inserting into MapTransaction table\n",
    "\n",
    "for i,row in df_map_transaction.iterrows():\n",
    "    sql = \"INSERT INTO maptransaction VALUES (%s,%s,%s,%s,%s,%s)\"\n",
    "    mycursor.execute(sql, tuple(row))\n",
    "    mydb.commit()"
   ]
  },
  {
   "cell_type": "code",
   "execution_count": null,
   "metadata": {},
   "outputs": [],
   "source": [
    "#Inserting into MapUser table\n",
    "\n",
    "for i,row in df_map_user.iterrows():\n",
    "    sql = \"INSERT INTO mapuser VALUES (%s,%s,%s,%s,%s,%s)\"\n",
    "    mycursor.execute(sql, tuple(row))\n",
    "    mydb.commit()"
   ]
  },
  {
   "cell_type": "code",
   "execution_count": null,
   "metadata": {},
   "outputs": [],
   "source": [
    "#Inserting into TopTransaction table\n",
    "\n",
    "for i,row in df_top_transaction.iterrows():\n",
    "    sql = \"INSERT INTO toptransaction VALUES (%s,%s,%s,%s,%s,%s)\"\n",
    "    mycursor.execute(sql, tuple(row))\n",
    "    mydb.commit()"
   ]
  },
  {
   "cell_type": "code",
   "execution_count": null,
   "metadata": {},
   "outputs": [],
   "source": [
    "#Inserting into TopUser table\n",
    "\n",
    "for i,row in df_top_user.iterrows():\n",
    "    sql = \"INSERT INTO topuser VALUES (%s,%s,%s,%s,%s)\"\n",
    "    mycursor.execute(sql, tuple(row))\n",
    "    mydb.commit()"
   ]
  }
 ],
 "metadata": {
  "kernelspec": {
   "display_name": "base",
   "language": "python",
   "name": "python3"
  },
  "language_info": {
   "codemirror_mode": {
    "name": "ipython",
    "version": 3
   },
   "file_extension": ".py",
   "mimetype": "text/x-python",
   "name": "python",
   "nbconvert_exporter": "python",
   "pygments_lexer": "ipython3",
   "version": "3.9.13"
  },
  "orig_nbformat": 4
 },
 "nbformat": 4,
 "nbformat_minor": 2
}
